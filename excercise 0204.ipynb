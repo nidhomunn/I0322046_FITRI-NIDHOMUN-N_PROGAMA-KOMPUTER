{
 "cells": [
  {
   "cell_type": "code",
   "execution_count": 3,
   "metadata": {},
   "outputs": [
    {
     "name": "stdout",
     "output_type": "stream",
     "text": [
      "Fitri Nihdomun\n",
      "I0322046\n",
      "B\n"
     ]
    }
   ],
   "source": [
    "print(input(\"Nama: \"))\n",
    "print(input(\"NIM: \"))\n",
    "print(input(\"Kelas: \"))"
   ]
  },
  {
   "attachments": {},
   "cell_type": "markdown",
   "metadata": {},
   "source": [
    "## 1."
   ]
  },
  {
   "attachments": {},
   "cell_type": "markdown",
   "metadata": {},
   "source": [
    "Buatlah program yang meminta input string dari user, kemudian program akan menentukan string tersebut adalah palyndrome atau bukan.<br>\n",
    "* Palyndrome adalah kata atau kalimat yang jika dibalik hasilnya sama\n",
    "* kasur rusak adalah palyndrome\n",
    "\n",
    "> *note: Kerjakan soal ini dengan percabangan*"
   ]
  },
  {
   "cell_type": "code",
   "execution_count": 1,
   "metadata": {},
   "outputs": [
    {
     "name": "stdout",
     "output_type": "stream",
     "text": [
      "data bukan polindorm\n"
     ]
    }
   ],
   "source": [
    "data = input(\"masukkan data :\")\n",
    "rumus = data [::-1]\n",
    "\n",
    "if data == rumus :\n",
    "    print (\"data adalah polindrom\")\n",
    "else :\n",
    "    print (\"data bukan polindorm\")"
   ]
  },
  {
   "attachments": {},
   "cell_type": "markdown",
   "metadata": {},
   "source": [
    "## 2."
   ]
  },
  {
   "attachments": {},
   "cell_type": "markdown",
   "metadata": {},
   "source": [
    "Buatlah program yang meminta input berupa tahun dan bulan kemudian tampilkan jumlah hari pada bulan tersebut (perbedaan pada tahun kabisat).<br>\n",
    "\n",
    "> *note: Kerjakan soal ini dengan percabangan*"
   ]
  },
  {
   "cell_type": "code",
   "execution_count": 2,
   "metadata": {},
   "outputs": [
    {
     "name": "stdout",
     "output_type": "stream",
     "text": [
      "jumlah hari pada bulan mei ada 31 hari\n"
     ]
    }
   ],
   "source": [
    "tahun = int (input (\"tahun berapa ?\"))\n",
    "bulan = str (input (\"masukkan bulan : \"))\n",
    "\n",
    "if tahun % 4 == 0 and (tahun % 100 != 0 or tahun % 400 == 0):\n",
    "    kabisat = True\n",
    "\n",
    "else :\n",
    "    kabisat = False\n",
    "\n",
    "if bulan in [\"januari\", \"maret\",\"mei\",\"juli\",\"agustus\",\"oktober\",\"desember\"]:\n",
    "    jumlah_hari_ada = 31\n",
    "\n",
    "elif bulan in [\"april\",\"juni\",\"september\",\"november\"]:\n",
    "    jumlah_hari_ada = 30\n",
    "\n",
    "elif bulan == \"februari\" :\n",
    "    if kabisat:\n",
    "        jumlah_hari_ada = 29\n",
    "\n",
    "    else :\n",
    "        jumlah_hari_ada = 28\n",
    "\n",
    "if jumlah_hari_ada is not None:\n",
    "    print (\"jumlah hari pada bulan\",bulan,\"ada\",jumlah_hari_ada,\"hari\")\n",
    "\n"
   ]
  }
 ],
 "metadata": {
  "kernelspec": {
   "display_name": "Python 3",
   "language": "python",
   "name": "python3"
  },
  "language_info": {
   "codemirror_mode": {
    "name": "ipython",
    "version": 3
   },
   "file_extension": ".py",
   "mimetype": "text/x-python",
   "name": "python",
   "nbconvert_exporter": "python",
   "pygments_lexer": "ipython3",
   "version": "3.11.2"
  },
  "orig_nbformat": 4
 },
 "nbformat": 4,
 "nbformat_minor": 2
}
