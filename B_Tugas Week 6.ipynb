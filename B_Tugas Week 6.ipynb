{
 "cells": [
  {
   "attachments": {},
   "cell_type": "markdown",
   "metadata": {},
   "source": [
    "1. Tulis program dengan fungsi untuk menentukan yang paling besar dari empat angka yang diberikan!\n",
    "     ###### Note: Angka ditentukan sendiri oleh praktikan"
   ]
  },
  {
   "cell_type": "code",
   "execution_count": 2,
   "metadata": {},
   "outputs": [
    {
     "name": "stdout",
     "output_type": "stream",
     "text": [
      "bilangan terbesar adalah : 7\n"
     ]
    }
   ],
   "source": [
    "def angka_terbesar(*bilangan) :\n",
    "    angka_terbesar = max (bilangan)\n",
    "    return angka_terbesar\n",
    "a = int(input('angka pertama adalah :'))\n",
    "b = int(input('angka kedua adalah :'))\n",
    "c = int(input('angka ketiga adalah :'))\n",
    "d = int(input('angka ke empat adalah :'))\n",
    "\n",
    "paling_besar = angka_terbesar(a,b,c,d)\n",
    "print ('bilangan terbesar adalah :',paling_besar)"
   ]
  },
  {
   "attachments": {},
   "cell_type": "markdown",
   "metadata": {},
   "source": [
    "2. Tulis fungsi Python yang mengambil list awal dan menampilkan list baru dengan angka unik (tidak ada angka yang sama) dari list yang pertama."
   ]
  },
  {
   "cell_type": "code",
   "execution_count": null,
   "metadata": {},
   "outputs": [],
   "source": [
    "list_awal = [9,9,9,9,9,9,9,10,11,13,14,15,17,19]"
   ]
  },
  {
   "cell_type": "code",
   "execution_count": 3,
   "metadata": {},
   "outputs": [
    {
     "name": "stdout",
     "output_type": "stream",
     "text": [
      "list angka unik adalah [9, 10, 11, 13, 14, 15, 17, 19]\n"
     ]
    }
   ],
   "source": [
    "def list_baru (list_awal):\n",
    "    list_baru = list (set(list_awal))\n",
    "    return list_baru \n",
    "\n",
    "list_awal = [9,9,9,9,9,9,9,10,11,13,14,15,17,19]\n",
    "list_baru = list_baru(list_awal)\n",
    "print ('list angka unik adalah', list_baru)"
   ]
  },
  {
   "attachments": {},
   "cell_type": "markdown",
   "metadata": {},
   "source": [
    "3. Hitunglah 2 angka yang dapat diinputkan dengan angka kedua menjadi pangkat bagi angka pertama, dan angka kedua menjadi pembagi angka pertama (tampilkan juga sisa hasil pembagiannya) \n",
    "\n",
    "clue : gunakan fungsi yang ada di built-in tanpa menggunakan sintaks operator seperti * ataupun /."
   ]
  },
  {
   "cell_type": "code",
   "execution_count": 16,
   "metadata": {},
   "outputs": [
    {
     "name": "stdout",
     "output_type": "stream",
     "text": [
      "hasil 3 pangkat 2 adalah 9\n",
      "hasil bagi 3 dengan 2 adalah (0, 1)\n",
      "sisa bagi 3 dengan 2 adalah 1\n"
     ]
    }
   ],
   "source": [
    "def rumus (a,b):\n",
    "    pangkat = pow (a,b)\n",
    "    pembagi = divmod (a,b)\n",
    "    sisa = a%b\n",
    "    return pangkat, pembagi, sisa\n",
    "\n",
    "a = int(input('masukkan bilangan petama'))\n",
    "b = int(input('masukkan bilangan kedua'))\n",
    "pangkat,pembagi,sisa = rumus (a,b)\n",
    "print ('hasil' ,a ,'pangkat' ,b, 'adalah', pangkat)\n",
    "print ('hasil bagi' ,a, 'dengan' ,b, 'adalah', bagi)\n",
    "print ('sisa bagi' ,a, 'dengan' ,b, 'adalah', sisa)"
   ]
  }
 ],
 "metadata": {
  "kernelspec": {
   "display_name": "Python 3",
   "language": "python",
   "name": "python3"
  },
  "language_info": {
   "codemirror_mode": {
    "name": "ipython",
    "version": 3
   },
   "file_extension": ".py",
   "mimetype": "text/x-python",
   "name": "python",
   "nbconvert_exporter": "python",
   "pygments_lexer": "ipython3",
   "version": "3.10.11"
  },
  "orig_nbformat": 4,
  "vscode": {
   "interpreter": {
    "hash": "5addf786bcd861d1ce5006f23111f8cbb206731e5b61b0a5632ba9e0252558a8"
   }
  }
 },
 "nbformat": 4,
 "nbformat_minor": 2
}
