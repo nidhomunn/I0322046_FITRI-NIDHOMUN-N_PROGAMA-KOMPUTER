{
 "cells": [
  {
   "cell_type": "code",
   "execution_count": 15,
   "metadata": {},
   "outputs": [
    {
     "name": "stdout",
     "output_type": "stream",
     "text": [
      "[[5, 0], [2, 6]]\n"
     ]
    }
   ],
   "source": [
    "#Buatlah sebuah fungsi untuk membuat matrix berdasarkan input dari user\n",
    "\n",
    "def create_matrix(baris,kolom):\n",
    "    matrix = []\n",
    "\n",
    "    for i in range(baris):\n",
    "        baris_matrik = []\n",
    "        nilai = float(input(\"Masukan Nilai Ke-1\"))\n",
    "    for j in range(kolom):\n",
    "        nilai = float(input(\"Masukan Nilai Ke-2\"))\n",
    "\n",
    "    return matrix\n",
    "\n",
    "\n",
    "baris = int(input('Masukkan Jumlah Baris:\\t'))\n",
    "kolom = int(input('Masukkan Jumlah Kolom:\\t'))\n",
    "\n",
    "create_matrix(baris,kolom)\n",
    "print(matrix)"
   ]
  },
  {
   "cell_type": "code",
   "execution_count": 70,
   "metadata": {},
   "outputs": [
    {
     "ename": "IndentationError",
     "evalue": "unexpected indent (1373755663.py, line 17)",
     "output_type": "error",
     "traceback": [
      "\u001b[1;36m  Cell \u001b[1;32mIn[70], line 17\u001b[1;36m\u001b[0m\n\u001b[1;33m    if len(matrixA) != len(matrixB) or len(matrixA[0]) != len(matrixB[0]):\u001b[0m\n\u001b[1;37m    ^\u001b[0m\n\u001b[1;31mIndentationError\u001b[0m\u001b[1;31m:\u001b[0m unexpected indent\n"
     ]
    }
   ],
   "source": [
    "#Buatlah fungsi untuk melakukan pengurangan antar dua matrix berdasarkan input user\n",
    "\n",
    "def kurang_matrix(matrixA, matrixB):\n",
    "    kurang = []\n",
    "\n",
    "    #Tulis kode kamu disini\n",
    "\n",
    "\n",
    "    return kurang\n",
    "\n",
    "\n",
    "matrixA = []\n",
    "matrixB = []\n",
    "\n",
    "\n",
    "kurang_matrix(matrixA,matrixB)\n"
   ]
  },
  {
   "cell_type": "code",
   "execution_count": null,
   "metadata": {},
   "outputs": [],
   "source": [
    "#Buatlah Fungsi untuk melakukan pembagian matrix dengan skalar berdasarkan input user\n",
    "\n",
    "def bagi_matrix(matrix1, skalar):\n",
    "    hasil = []\n",
    "\n",
    "    #Tulis kode kamu disini\n",
    "\n",
    "\n",
    "    return hasil\n",
    "\n",
    "\n",
    "\n",
    "matrix1 = []\n",
    "skalar = int(input('Matrix dibagi berapa?\\t'))\n",
    "\n",
    "\n",
    "bagi_matrix(matrix1, skalar)"
   ]
  }
 ],
 "metadata": {
  "language_info": {
   "name": "python"
  },
  "orig_nbformat": 4
 },
 "nbformat": 4,
 "nbformat_minor": 2
}
