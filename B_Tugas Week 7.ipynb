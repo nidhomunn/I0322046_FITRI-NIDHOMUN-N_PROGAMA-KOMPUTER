{
 "cells": [
  {
   "cell_type": "code",
   "execution_count": 47,
   "metadata": {},
   "outputs": [
    {
     "name": "stdout",
     "output_type": "stream",
     "text": [
      "matriks adalah : []\n"
     ]
    }
   ],
   "source": [
    "#Buatlah sebuah fungsi untuk membuat matrix berdasarkan input dari user\n",
    "\n",
    "def create_matrix(baris,kolom):\n",
    "    matrix = []\n",
    "\n",
    "    for i in range(baris):\n",
    "        baris_matrik = []\n",
    "        nilai = float(input(\"Masukan Nilai Ke-1\"))\n",
    "    for j in range(kolom):\n",
    "        kolom_matrik = []\n",
    "        nilai = float(input(\"Masukan Nilai Ke-2\"))\n",
    "\n",
    "    return matrix\n",
    "\n",
    "\n",
    "baris = int(input('Masukkan Jumlah Baris:\\t'))\n",
    "kolom = int(input('Masukkan Jumlah Kolom:\\t'))\n",
    "\n",
    "create_matrix(baris,kolom)\n",
    "print('matriks adalah :', matrix)\n"
   ]
  },
  {
   "cell_type": "code",
   "execution_count": 42,
   "metadata": {},
   "outputs": [
    {
     "name": "stdout",
     "output_type": "stream",
     "text": [
      "Hasil pengurangan matriks:\n",
      "[-4.0, -1.0]\n",
      "[1.0, 3.0]\n"
     ]
    }
   ],
   "source": [
    "#Buatlah fungsi untuk melakukan pengurangan antar dua matrix berdasarkan input user\n",
    "\n",
    "def kurang_matrix(matrixA, matrixB):\n",
    "    kurang = []\n",
    "\n",
    "    #Tulis kode kamu disini\n",
    "    \n",
    "     # Meminta input dari pengguna untuk ukuran matriks\n",
    "    rows = int(input(\"Masukkan jumlah baris: \"))\n",
    "    cols = int(input(\"Masukkan jumlah kolom: \"))\n",
    "\n",
    "    # Inisialisasi matriks pertama\n",
    "    matrixA = []\n",
    "    for a in range(rows):\n",
    "        row = []\n",
    "        for b in range(cols):\n",
    "            element = float(input(\"Masukkan elemen baris ke-{} kolom ke-{}: \".format(a + 1, b + 1)))\n",
    "            row.append(element)\n",
    "        matrixA.append(row)\n",
    "        \n",
    "    # Inisialisasi matriks kedua\n",
    "    matrixB = []\n",
    "    for a in range(rows):\n",
    "        row = []\n",
    "        for b in range(cols):\n",
    "            element = float(input(\"Masukkan elemen baris ke-{} kolom ke-{}: \".format(a + 1, b + 1)))\n",
    "            row.append(element)\n",
    "        matrixB.append(row)\n",
    "    \n",
    "    if len(matrixA) != len(matrixB) or len(matrixA[0]) != len(matrixB[0]):\n",
    "        print(\"Error: Ukuran matriks tidak sama.\")\n",
    "        return kurang\n",
    "\n",
    "    # Melakukan pengurangan matriks\n",
    "    result_matrix = []\n",
    "    for a in range(rows):\n",
    "        row = []\n",
    "        for b in range(cols):\n",
    "            element = matrixA[a][b] - matrixB[a][b]\n",
    "            row.append(element)\n",
    "        result_matrix.append(row)\n",
    "\n",
    "    # Menampilkan hasil pengurangan matriks\n",
    "    print(\"Hasil pengurangan matriks:\")\n",
    "    for row in result_matrix:\n",
    "        print(row)\n",
    "\n",
    "kurang_matrix(matrixA,matrixB)\n"
   ]
  },
  {
   "cell_type": "code",
   "execution_count": 52,
   "metadata": {},
   "outputs": [
    {
     "name": "stdout",
     "output_type": "stream",
     "text": [
      "Hasil pembagian matriks:\n",
      "[1.5, 2.0]\n",
      "[2.5, 1.5]\n"
     ]
    }
   ],
   "source": [
    "def nilai_matriks():\n",
    "    rows = int(input(\"Masukkan jumlah baris: \"))\n",
    "    cols = int(input(\"Masukkan jumlah kolom: \"))\n",
    "\n",
    "    matrix = []\n",
    "    for i in range(rows):\n",
    "        row = []\n",
    "        for j in range(cols):\n",
    "            element = float(input(\"Masukkan elemen baris ke-{} kolom ke-{}: \".format(i + 1, j + 1)))\n",
    "            row.append(element)\n",
    "        matrix.append(row)\n",
    "\n",
    "    return matrix\n",
    "\n",
    "def bagi_matrix(matrix1, skalar):\n",
    "    hasil = []\n",
    "\n",
    "    rows = len(matrix1)\n",
    "    cols = len(matrix1[0])\n",
    "\n",
    "    # Melakukan pembagian setiap elemen matriks dengan skalar\n",
    "    for i in range(rows):\n",
    "        row = []\n",
    "        for j in range(cols):\n",
    "            element = matrix1[i][j] / skalar\n",
    "            row.append(element)\n",
    "        hasil.append(row)\n",
    "\n",
    "    return hasil\n",
    "\n",
    "matrix1 = nilai_matriks()\n",
    "skalar = float(input(\"Masukkan skalar: \"))\n",
    "\n",
    "hasil_bagi = bagi_matrix(matrix1, skalar)\n",
    "print(\"Hasil pembagian matriks:\")\n",
    "for row in hasil_bagi:\n",
    "    print(row)\n",
    "\n"
   ]
  }
 ],
 "metadata": {
  "kernelspec": {
   "display_name": "Python 3",
   "language": "python",
   "name": "python3"
  },
  "language_info": {
   "codemirror_mode": {
    "name": "ipython",
    "version": 3
   },
   "file_extension": ".py",
   "mimetype": "text/x-python",
   "name": "python",
   "nbconvert_exporter": "python",
   "pygments_lexer": "ipython3",
   "version": "3.11.2"
  },
  "orig_nbformat": 4
 },
 "nbformat": 4,
 "nbformat_minor": 2
}
