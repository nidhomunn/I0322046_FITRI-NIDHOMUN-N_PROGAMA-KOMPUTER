{
 "cells": [
  {
   "attachments": {},
   "cell_type": "markdown",
   "metadata": {},
   "source": [
    "1. Diberikan List sebagai berikut!"
   ]
  },
  {
   "cell_type": "code",
   "execution_count": null,
   "metadata": {},
   "outputs": [],
   "source": [
    "list1 = ['a','b','c']\n",
    "list1 = ['c','d','e']"
   ]
  },
  {
   "attachments": {},
   "cell_type": "markdown",
   "metadata": {},
   "source": [
    "Buatlah program pengulangan untuk menampilkan elemen dalam kedua list tersebut yang sama! (Contoh Output \"Nilai yang sama adalah 'C'\")"
   ]
  },
  {
   "cell_type": "code",
   "execution_count": 1,
   "metadata": {},
   "outputs": [
    {
     "name": "stdout",
     "output_type": "stream",
     "text": [
      "nilai list yang sama adalah c\n"
     ]
    }
   ],
   "source": [
    "list_a = [\"a\",\"b\",\"c\"]\n",
    "list_b = [\"c\",\"d\",\"e\"]\n",
    "\n",
    "for urutan in list_a:\n",
    "    if urutan in list_b:\n",
    "        print(\"nilai list yang sama adalah\", urutan)\n",
    "        \n"
   ]
  },
  {
   "attachments": {},
   "cell_type": "markdown",
   "metadata": {},
   "source": [
    "2. Buatlah sebuah list yang berisi daftar mata kuliah di Teknik Industri UNS (minimal 10 matkul). Kemudian buat program pencarian menggunakan pengulangan. Apabila nama matkul yang user inputkan sudah sesuai dengan isi list maka program akan berhenti dan menampilkan output \"Mata Kuliah (matkul yang diinput user) adalah mata kuliah di Teknik Industri UNS\"."
   ]
  },
  {
   "cell_type": "code",
   "execution_count": 5,
   "metadata": {},
   "outputs": [
    {
     "name": "stdout",
     "output_type": "stream",
     "text": [
      "mata kuliah klkul tidak ada di tekdus yagesya\n"
     ]
    }
   ],
   "source": [
    "matkul_indus = [\"kalkulus\",\"aeb\",\"fisika dasar\",\"kimia dasar\",\"rekayasa desain\",\"prokom\",\"material teknik\",\"mekanika teknik\",\"psikologi industri\",\"biologi\"]\n",
    "\n",
    "matkul = str(input(\"masukkan nama mata kuliah teknik industri\"))\n",
    "\n",
    "for mata_kuliah in matkul_indus :\n",
    "    if matkul == mata_kuliah:\n",
    "        print (\"mata kuliah\",matkul,\"merupakan mata kuliah di teknik industri UNS\")\n",
    "        break\n",
    "else :\n",
    "    print(\"mata kuliah\",matkul,\"tidak ada di tekdus yagesya\")\n"
   ]
  },
  {
   "attachments": {},
   "cell_type": "markdown",
   "metadata": {},
   "source": [
    "3. Buatlah program untuk menampilkan faktorial dari suatu bilangan dimana bilangan tersebut didapat melalui input user!"
   ]
  },
  {
   "cell_type": "code",
   "execution_count": 9,
   "metadata": {},
   "outputs": [
    {
     "name": "stdout",
     "output_type": "stream",
     "text": [
      "nilai faktorial bilangan 3 adalah 6\n"
     ]
    }
   ],
   "source": [
    "data = int(input(\"masukkan datanya =\"))\n",
    "faktorial = 1\n",
    "\n",
    "for x in range (1,data+1):\n",
    "    faktorial *= x\n",
    "\n",
    "print(\"nilai faktorial bilangan\", data , \"adalah\", faktorial)"
   ]
  }
 ],
 "metadata": {
  "kernelspec": {
   "display_name": "Python 3",
   "language": "python",
   "name": "python3"
  },
  "language_info": {
   "codemirror_mode": {
    "name": "ipython",
    "version": 3
   },
   "file_extension": ".py",
   "mimetype": "text/x-python",
   "name": "python",
   "nbconvert_exporter": "python",
   "pygments_lexer": "ipython3",
   "version": "3.11.2"
  },
  "orig_nbformat": 4
 },
 "nbformat": 4,
 "nbformat_minor": 2
}
